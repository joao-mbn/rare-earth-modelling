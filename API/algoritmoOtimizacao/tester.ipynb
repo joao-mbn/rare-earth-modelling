{
 "cells": [
  {
   "cell_type": "code",
   "execution_count": 4,
   "source": [
    "import Instancias\r\n",
    "from IsotermaClass import Isoterma"
   ],
   "outputs": [],
   "metadata": {}
  },
  {
   "cell_type": "code",
   "execution_count": 7,
   "source": [
    "Isoterma(40, 0.6, [Instancias.H, Instancias.disprosio, Instancias.holmio]).create_isotherm_results_dto()"
   ],
   "outputs": [
    {
     "output_type": "execute_result",
     "data": {
      "text/plain": [
       "array([0.59879235, 0.62274879, 0.63673256, 0.64578997, 0.65207549,\n",
       "       0.65665536, 0.66011492, 0.66280119, 0.66493254, 0.66665307,\n",
       "       0.66806158, 0.66922806, 0.67020344, 0.67102567, 0.67172358,\n",
       "       0.67231949, 0.67283095, 0.67327196, 0.67365385, 0.67398595,\n",
       "       0.67427605, 0.67453077, 0.67475597, 0.67495694, 0.67513882,\n",
       "       0.67530685, 0.67546683, 0.67562571, 0.67579237, 0.67597876,\n",
       "       0.67620163, 0.67648514, 0.67686486, 0.6773942 , 0.67815495,\n",
       "       0.67927549, 0.68096406, 0.68357485, 0.68775338, 0.69480615])"
      ]
     },
     "metadata": {},
     "execution_count": 7
    }
   ],
   "metadata": {}
  }
 ],
 "metadata": {
  "orig_nbformat": 4,
  "language_info": {
   "name": "python",
   "version": "3.9.6",
   "mimetype": "text/x-python",
   "codemirror_mode": {
    "name": "ipython",
    "version": 3
   },
   "pygments_lexer": "ipython3",
   "nbconvert_exporter": "python",
   "file_extension": ".py"
  },
  "kernelspec": {
   "name": "python3",
   "display_name": "Python 3.9.6 64-bit"
  },
  "interpreter": {
   "hash": "f66d96305d666602eca1f0ac1426fc29dbb937d657e28fe4305399a55cb81329"
  }
 },
 "nbformat": 4,
 "nbformat_minor": 2
}