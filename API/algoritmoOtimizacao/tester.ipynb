{
 "cells": [
  {
   "cell_type": "code",
   "execution_count": null,
   "source": [
    "import Instancias"
   ],
   "outputs": [],
   "metadata": {}
  },
  {
   "cell_type": "code",
   "execution_count": 1,
   "source": [
    "isoterma = Instancias.Isoterma(40, 0.6, [Instancias.H, Instancias.disprosio, Instancias.holmio])\r\n",
    "isoterma.monta_grafico()"
   ],
   "outputs": [
    {
     "output_type": "error",
     "ename": "NameError",
     "evalue": "name 'Instancias' is not defined",
     "traceback": [
      "\u001b[1;31m---------------------------------------------------------------------------\u001b[0m",
      "\u001b[1;31mNameError\u001b[0m                                 Traceback (most recent call last)",
      "\u001b[1;32m~\\AppData\\Local\\Temp/ipykernel_5732/3130588857.py\u001b[0m in \u001b[0;36m<module>\u001b[1;34m\u001b[0m\n\u001b[1;32m----> 1\u001b[1;33m \u001b[0misoterma\u001b[0m \u001b[1;33m=\u001b[0m \u001b[0mInstancias\u001b[0m\u001b[1;33m.\u001b[0m\u001b[0mIsoterma\u001b[0m\u001b[1;33m(\u001b[0m\u001b[1;36m40\u001b[0m\u001b[1;33m,\u001b[0m \u001b[1;36m0.6\u001b[0m\u001b[1;33m,\u001b[0m \u001b[1;33m[\u001b[0m\u001b[0mInstancias\u001b[0m\u001b[1;33m.\u001b[0m\u001b[0mH\u001b[0m\u001b[1;33m,\u001b[0m \u001b[0mInstancias\u001b[0m\u001b[1;33m.\u001b[0m\u001b[0mdisprosio\u001b[0m\u001b[1;33m,\u001b[0m \u001b[0mInstancias\u001b[0m\u001b[1;33m.\u001b[0m\u001b[0mholmio\u001b[0m\u001b[1;33m]\u001b[0m\u001b[1;33m)\u001b[0m\u001b[1;33m\u001b[0m\u001b[1;33m\u001b[0m\u001b[0m\n\u001b[0m\u001b[0;32m      2\u001b[0m \u001b[0misoterma\u001b[0m\u001b[1;33m.\u001b[0m\u001b[0mmonta_grafico\u001b[0m\u001b[1;33m(\u001b[0m\u001b[1;33m)\u001b[0m\u001b[1;33m\u001b[0m\u001b[1;33m\u001b[0m\u001b[0m\n",
      "\u001b[1;31mNameError\u001b[0m: name 'Instancias' is not defined"
     ]
    }
   ],
   "metadata": {}
  }
 ],
 "metadata": {
  "orig_nbformat": 4,
  "language_info": {
   "name": "python",
   "version": "3.9.6",
   "mimetype": "text/x-python",
   "codemirror_mode": {
    "name": "ipython",
    "version": 3
   },
   "pygments_lexer": "ipython3",
   "nbconvert_exporter": "python",
   "file_extension": ".py"
  },
  "kernelspec": {
   "name": "python3",
   "display_name": "Python 3.9.6 64-bit"
  },
  "interpreter": {
   "hash": "f66d96305d666602eca1f0ac1426fc29dbb937d657e28fe4305399a55cb81329"
  }
 },
 "nbformat": 4,
 "nbformat_minor": 2
}