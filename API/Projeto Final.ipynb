{
 "cells": [
  {
   "cell_type": "code",
   "execution_count": 3,
   "metadata": {},
   "outputs": [],
   "source": [
    "tolerancia = 0.0001\n",
    "\n",
    "nEstagios = 10\n",
    "\n",
    "casDy = [3 - 2.7 * n/(nEstagios) for n in range(nEstagios + 1)]\n",
    "casHo = [5 - 4.5 * n/(nEstagios) for n in range(nEstagios + 1)]\n",
    "Hs = [0.8 - 0.1 * n/(nEstagios) for n in range(nEstagios + 1)]\n",
    "\n",
    "k = casDy[0] + casHo[0] + Hs[0]\n",
    "rao = 2\n",
    "aDy = 3.22552\n",
    "bDy = -0.99999\n",
    "\n",
    "aHo = 3.05008\n",
    "bHo = -0.68760"
   ]
  },
  {
   "cell_type": "code",
   "execution_count": 4,
   "metadata": {},
   "outputs": [],
   "source": [
    "def geraF (listaParametros): \n",
    "    ca1n0, ca1n1, ca1n2, ca2n1, ca2n2, a1, b1, rao, k = listaParametros\n",
    "    if ca1n2 == 0 and ca2n2 == 0:        \n",
    "        return (\n",
    "            ca1n1 * ( (k/(3*ca1n1 + 3*ca2n1) )**-a1 + 10**b1 + rao)\n",
    "            - ca1n0 * rao\n",
    "        )\n",
    "    else:\n",
    "        return (\n",
    "            ca1n1 * ( (k/(3*ca1n1 + 3*ca2n1) )**-a1 + 10**b1 + rao) \n",
    "            - ca1n2 * ( (k/(3*ca1n2 + 3*ca2n2) )**-a1 + 10**b1)\n",
    "            - ca1n0 * rao\n",
    "        )"
   ]
  },
  {
   "cell_type": "code",
   "execution_count": 5,
   "metadata": {},
   "outputs": [],
   "source": [
    "def geraVetorFuncoes():\n",
    "    \n",
    "    vetorFuncoes = criaMatrizNula(2*nEstagios, 1)\n",
    "\n",
    "    for n in range(1, nEstagios + 1):\n",
    "        if n < nEstagios:\n",
    "            vetorFuncoes[n - 1][0] = geraF([casDy[n - 1], casDy[n], casDy[n + 1], casHo[n], casHo[n + 1],\n",
    "                                            aDy, bDy, rao, k])\n",
    "            vetorFuncoes[nEstagios + n - 1][0] = geraF([casHo[n - 1], casHo[n], casHo[n + 1], casDy[n], casDy[n + 1],\n",
    "                                                     aHo, bHo, rao, k])\n",
    "        \n",
    "        else:\n",
    "            vetorFuncoes[n - 1][0] = geraF([casDy[n - 1], casDy[n], 0, casHo[n], 0, aDy, bDy, rao, k])\n",
    "            vetorFuncoes[nEstagios + n - 1][0] = geraF([casHo[n - 1], casHo[n], 0, casDy[n], 0,\n",
    "                                                     aHo, bHo, rao, k])\n",
    "            \n",
    "    return vetorFuncoes"
   ]
  },
  {
   "cell_type": "code",
   "execution_count": 6,
   "metadata": {},
   "outputs": [],
   "source": [
    "def derivadaPontual(funcao, posicaoIncrementoX, listaArgumentos, incrementoX = 0.0001):\n",
    "    \n",
    "    listaArgumentosIncrementada = listaArgumentos[:]\n",
    "    listaArgumentosIncrementada[posicaoIncrementoX] += incrementoX\n",
    "    dfdx = ( funcao(listaArgumentosIncrementada) - funcao(listaArgumentos) )/incrementoX\n",
    "    \n",
    "    return dfdx "
   ]
  },
  {
   "cell_type": "code",
   "execution_count": 7,
   "metadata": {},
   "outputs": [],
   "source": [
    "def criaMatrizNula(nRows, nCols = 'não atribuído'):\n",
    "    matrizNula = []\n",
    "    \n",
    "    if nCols == 'não atribuído':\n",
    "        nCols = nRows\n",
    "    \n",
    "    for i in range(nRows):\n",
    "        linha_i = []\n",
    "        \n",
    "        for j in range(nCols):\n",
    "            termo_ij = 0\n",
    "            linha_i.append(termo_ij)\n",
    "            \n",
    "        matrizNula.append(linha_i)\n",
    "        \n",
    "    return matrizNula"
   ]
  },
  {
   "cell_type": "code",
   "execution_count": 8,
   "metadata": {},
   "outputs": [],
   "source": [
    "def criaMatrizIdentidade(n):\n",
    "    matriz = criaMatrizNula(n)\n",
    "    for i in range(n):\n",
    "        matriz[i][i] = 1\n",
    "    \n",
    "    return matriz"
   ]
  },
  {
   "cell_type": "code",
   "execution_count": 9,
   "metadata": {},
   "outputs": [],
   "source": [
    "def jacobiana():\n",
    "    \n",
    "    assert len(casDy) == len(casHo)\n",
    "    \n",
    "    matrizJacobiana = criaMatrizNula(2 * nEstagios) \n",
    "    paramsDy = [aDy, bDy, rao, k]\n",
    "    paramsHo = [aHo, bHo, rao, k]\n",
    "    \n",
    "    for n in range(1, nEstagios + 1):\n",
    "                \n",
    "        if n == 1:\n",
    "            listaArgumentosDy = [casDy[n-1], casDy[n], casDy[n+1], casHo[n], casHo[n+1]] + paramsDy\n",
    "            listaArgumentosHo = [casHo[n-1], casHo[n], casHo[n+1], casDy[n], casDy[n+1]] + paramsHo\n",
    "            \n",
    "            matrizJacobiana[n - 1][n - 1] = derivadaPontual(geraF, 1, listaArgumentosDy)\n",
    "            matrizJacobiana[n - 1][n] = derivadaPontual(geraF, 2, listaArgumentosDy)\n",
    "            matrizJacobiana[n - 1][nEstagios + n - 1] = derivadaPontual(geraF, 3, listaArgumentosDy)\n",
    "            matrizJacobiana[n - 1][nEstagios + n] = derivadaPontual(geraF, 4, listaArgumentosDy)\n",
    "\n",
    "            matrizJacobiana[nEstagios + n - 1][n - 1] = derivadaPontual(geraF, 3, listaArgumentosHo)\n",
    "            matrizJacobiana[nEstagios + n - 1][n] = derivadaPontual(geraF, 4, listaArgumentosHo)\n",
    "            matrizJacobiana[nEstagios + n - 1][nEstagios + n - 1] = derivadaPontual(geraF, 1, listaArgumentosHo)\n",
    "            matrizJacobiana[nEstagios + n - 1][nEstagios + n] = derivadaPontual(geraF, 2, listaArgumentosHo)\n",
    "            \n",
    "        elif n == nEstagios:\n",
    "            listaArgumentosDy = [casDy[n-1], casDy[n], 0, casHo[n], 0] + paramsDy\n",
    "            listaArgumentosHo = [casHo[n-1], casHo[n], 0, casDy[n], 0] + paramsHo\n",
    "            \n",
    "            matrizJacobiana[n - 1][n - 2] = derivadaPontual(geraF, 0, listaArgumentosDy)\n",
    "            matrizJacobiana[n - 1][n - 1] = derivadaPontual(geraF, 1, listaArgumentosDy)\n",
    "            matrizJacobiana[n - 1][nEstagios + n - 1] = derivadaPontual(geraF, 3, listaArgumentosDy)\n",
    "\n",
    "            matrizJacobiana[nEstagios + n - 1][n-1] = derivadaPontual(geraF, 3, listaArgumentosHo)\n",
    "            matrizJacobiana[nEstagios + n - 1][nEstagios + n-2] = derivadaPontual(geraF, 0, listaArgumentosHo)\n",
    "            matrizJacobiana[nEstagios + n - 1][nEstagios + n-1] = derivadaPontual(geraF, 1, listaArgumentosHo)\n",
    "        \n",
    "        else:\n",
    "            listaArgumentosDy = [casDy[n-1], casDy[n], casDy[n+1], casHo[n], casHo[n+1]] + paramsDy\n",
    "            listaArgumentosHo = [casHo[n-1], casHo[n], casHo[n+1], casDy[n], casDy[n+1]] + paramsHo\n",
    "            \n",
    "            matrizJacobiana[n - 1][n - 2] = derivadaPontual(geraF, 0, listaArgumentosDy)\n",
    "            matrizJacobiana[n - 1][n - 1] = derivadaPontual(geraF, 1, listaArgumentosDy)\n",
    "            matrizJacobiana[n - 1][n] = derivadaPontual(geraF, 2, listaArgumentosDy)\n",
    "            matrizJacobiana[n - 1][nEstagios + n - 1] = derivadaPontual(geraF, 3, listaArgumentosDy)\n",
    "            matrizJacobiana[n - 1][nEstagios + n] = derivadaPontual(geraF, 4, listaArgumentosDy)           \n",
    "\n",
    "            matrizJacobiana[nEstagios + n - 1][n-1] = derivadaPontual(geraF, 3, listaArgumentosHo)\n",
    "            matrizJacobiana[nEstagios + n - 1][n] = derivadaPontual(geraF, 4, listaArgumentosHo)\n",
    "            matrizJacobiana[nEstagios + n - 1][nEstagios + n - 2] = derivadaPontual(geraF, 0, listaArgumentosHo)\n",
    "            matrizJacobiana[nEstagios + n - 1][nEstagios + n - 1] = derivadaPontual(geraF, 1, listaArgumentosHo)\n",
    "            matrizJacobiana[nEstagios + n - 1][nEstagios + n] = derivadaPontual(geraF, 2, listaArgumentosHo)\n",
    "        \n",
    "    return matrizJacobiana"
   ]
  },
  {
   "cell_type": "code",
   "execution_count": 10,
   "metadata": {},
   "outputs": [],
   "source": [
    "def muda_linha (li, lj, razaoPivotamento): # 'lj' é a linha a ser modificada, 'li' a modificadora e 'i' é o elemento a ser zerado\n",
    "\n",
    "    li_modificador = []\n",
    "    \n",
    "    for elemento in li:\n",
    "        elemento = elemento * razaoPivotamento\n",
    "        li_modificador.append(elemento)    \n",
    "\n",
    "    for i in range(len(lj)):\n",
    "        lj[i] = lj[i] - li_modificador[i]\n",
    "        \n",
    "    return lj\n",
    "\n",
    "def escalonaInferior (matrizOriginal, matrizInversa): \n",
    "    #ela vai escalonar a matriz até zerar a diagonal de baixo\n",
    "\n",
    "    for n in range(len(matrizOriginal)): #vai passar p/ próximo pivô\n",
    "        l = 1\n",
    "        while (l + n) < (len(matrizOriginal)): # vai zerar todos os termos de uma coluna que estão abaixo da diagonal\n",
    "            razaoPivotamento = matrizOriginal[n + l][n] / matrizOriginal[n][n]\n",
    "            matrizOriginal[n + l] = muda_linha(matrizOriginal[n], matrizOriginal[n + l], razaoPivotamento)\n",
    "            matrizInversa[n + l] = muda_linha(matrizInversa[n], matrizInversa[n + l], razaoPivotamento)\n",
    "            l += 1\n",
    "        \n",
    "    return matrizOriginal, matrizInversa\n",
    "    \n",
    "def escalonaSuperior (matrizOriginal, matrizInversa): \n",
    "    #ela vai escalonar a diagonal de cima, partindo da diagonal de baixo zerada\n",
    "    \n",
    "    for n in range(len(matrizOriginal) -1, -1, -1):\n",
    "        l = 1\n",
    "        while l <= n: #vai passar p/ pivô anterior\n",
    "            razaoPivotamento = matrizOriginal[n - l][n] / matrizOriginal[n][n]\n",
    "            matrizOriginal[n - l] = muda_linha (matrizOriginal[n], matrizOriginal[n - l], razaoPivotamento)\n",
    "            matrizInversa[n - l] = muda_linha (matrizInversa[n], matrizInversa[n - l], razaoPivotamento)\n",
    "            l += 1\n",
    "\n",
    "    return matrizOriginal, matrizInversa\n",
    "\n",
    "def transformaEscalonadaEmIdentidade (matrizOriginal, matrizInversa):   \n",
    "   \n",
    "    for i in range(len(matrizInversa)):\n",
    "        for j in range(len(matrizInversa)):\n",
    "            matrizInversa[i][j] = matrizInversa[i][j]/matrizOriginal[i][i]\n",
    "        \n",
    "    return matrizOriginal, matrizInversa\n",
    "\n",
    "def inverteMatriz(matrizOriginal):\n",
    "    \n",
    "    matrizInversa = criaMatrizIdentidade(len(matrizOriginal))\n",
    "    matrizOriginalTriangularSuperior, matrizInversaTriangularSuperior = escalonaInferior(matrizOriginal, matrizInversa)    \n",
    "    matrizOriginalEscalonada, matrizInversaEscalonada = escalonaSuperior(matrizOriginalTriangularSuperior,\n",
    "                                                                         matrizInversaTriangularSuperior)\n",
    "    matrizIdentidade, matrizOriginalInvertida = transformaEscalonadaEmIdentidade(matrizOriginalEscalonada,\n",
    "                                                                                 matrizInversaEscalonada)\n",
    "    return matrizOriginalInvertida"
   ]
  },
  {
   "cell_type": "code",
   "execution_count": 11,
   "metadata": {},
   "outputs": [],
   "source": [
    "def multiplicacaoMatrizes(matrizA, matrizB):\n",
    "    # A X B = C\n",
    "    assert len(matrizA[0]) == len(matrizB)\n",
    "    \n",
    "    matrizC = criaMatrizNula(len(matrizA), len(matrizB[0]))\n",
    "    \n",
    "    for i in range(len(matrizA)):\n",
    "        for j in range(len(matrizB[0])):\n",
    "            for n in range(len(matrizB)):\n",
    "                matrizC[i][j] += matrizA[i][n] * matrizB[n][j]\n",
    "    \n",
    "    return matrizC    "
   ]
  },
  {
   "cell_type": "code",
   "execution_count": 12,
   "metadata": {},
   "outputs": [],
   "source": [
    "def updateVetores(vetorNovo):\n",
    "    \n",
    "    for i in range(int(len(vetorNovo)/2)):\n",
    "        casDy[i + 1] -= vetorNovo[i][0]\n",
    "        casHo[i + 1] -= vetorNovo[i + nEstagios][0]\n",
    "    \n",
    "    return casDy, casHo"
   ]
  },
  {
   "cell_type": "code",
   "execution_count": 13,
   "metadata": {},
   "outputs": [],
   "source": [
    "def verificaConvergencia(vetor, tolerancia):\n",
    "    \n",
    "    for i in range(len(vetor)):\n",
    "        if vetor[i][0] > tolerancia:\n",
    "            return False\n",
    "    \n",
    "    return True"
   ]
  },
  {
   "cell_type": "code",
   "execution_count": 14,
   "metadata": {},
   "outputs": [],
   "source": [
    "def newtonRaphsonSistema():\n",
    "    \n",
    "    convergencia = False\n",
    "    n = 0\n",
    "    \n",
    "    while not convergencia or n > 100:\n",
    "        \n",
    "        matrizJacobiana = jacobiana()\n",
    "        jacobianaInversa = inverteMatriz(matrizJacobiana)\n",
    "        vetorFuncoes = geraVetorFuncoes()\n",
    "        vetorNovo = multiplicacaoMatrizes(jacobianaInversa, vetorFuncoes)\n",
    "        casDy, casHo = updateVetores(vetorNovo)\n",
    "        print (casDy, casHo)\n",
    "        convergencia = verificaConvergencia(vetorNovo, tolerancia)\n",
    "        if convergencia:\n",
    "            return casDy, casHo\n",
    "        n += 1\n",
    "    \n",
    "    return 'não convergiu em ' + str(n) + ' iterações.'        "
   ]
  },
  {
   "cell_type": "code",
   "execution_count": 19,
   "metadata": {},
   "outputs": [],
   "source": [
    "from sympy import *\n",
    "import numpy as np\n",
    "\n",
    "def displayMatriz(matriz):\n",
    "    for i in range(len(matriz)):\n",
    "        for j in range(len(matriz)):\n",
    "            matriz[i][j] = round(matriz[i][j],1)\n",
    "    return Matrix(matriz)\n",
    "\n",
    "inv = np.linalg.inv(jacobiana())"
   ]
  },
  {
   "cell_type": "code",
   "execution_count": 16,
   "metadata": {},
   "outputs": [],
   "source": [
    "vetorNovo = multiplicacaoMatrizes(inverteMatriz(jacobiana()), geraVetorFuncoes())"
   ]
  },
  {
   "cell_type": "code",
   "execution_count": 18,
   "metadata": {},
   "outputs": [
    {
     "ename": "NameError",
     "evalue": "name 'updateVetor' is not defined",
     "output_type": "error",
     "traceback": [
      "\u001b[1;31m---------------------------------------------------------------------------\u001b[0m",
      "\u001b[1;31mNameError\u001b[0m                                 Traceback (most recent call last)",
      "\u001b[1;32m<ipython-input-18-74cb905b0517>\u001b[0m in \u001b[0;36m<module>\u001b[1;34m\u001b[0m\n\u001b[1;32m----> 1\u001b[1;33m \u001b[0mupdateVetor\u001b[0m\u001b[1;33m(\u001b[0m\u001b[0mvetorNovo\u001b[0m\u001b[1;33m)\u001b[0m\u001b[1;33m\u001b[0m\u001b[1;33m\u001b[0m\u001b[0m\n\u001b[0m",
      "\u001b[1;31mNameError\u001b[0m: name 'updateVetor' is not defined"
     ]
    }
   ],
   "source": [
    "updateVetor(vetorNovo)"
   ]
  },
  {
   "cell_type": "code",
   "execution_count": 20,
   "metadata": {
    "scrolled": true
   },
   "outputs": [
    {
     "data": {
      "text/latex": [
       "$\\displaystyle \\left[\\begin{array}{cccccccccccccccccccc}0.0 & 0.0 & 0.0 & 0.0 & 0.0 & 0.0 & 0.0 & 0.0 & 0.0 & 0.0 & 0.0 & 0.0 & 0.0 & 0.0 & 0.0 & 0.0 & 0.0 & 0.0 & 0.0 & 0.0\\\\0.0 & 0.1 & 0.1 & 0.1 & 0.0 & 0.0 & 0.0 & 0.0 & 0.0 & 0.0 & 0.0 & 0.0 & 0.0 & 0.0 & 0.0 & 0.0 & 0.0 & 0.0 & 0.0 & 0.0\\\\0.0 & 0.0 & 0.1 & 0.1 & 0.1 & 0.0 & 0.0 & 0.0 & 0.0 & 0.0 & 0.0 & 0.0 & 0.0 & 0.0 & 0.0 & 0.0 & 0.0 & 0.0 & 0.0 & 0.0\\\\0.0 & 0.0 & 0.0 & 0.1 & 0.1 & 0.1 & 0.0 & 0.0 & 0.0 & 0.0 & 0.0 & 0.0 & 0.0 & -0.1 & -0.1 & 0.0 & 0.0 & 0.0 & 0.0 & 0.0\\\\0.0 & 0.0 & 0.0 & 0.1 & 0.2 & 0.1 & 0.1 & 0.0 & 0.0 & 0.0 & 0.0 & 0.0 & 0.0 & 0.0 & -0.1 & -0.1 & 0.0 & 0.0 & 0.0 & 0.0\\\\0.0 & 0.0 & 0.0 & 0.0 & 0.1 & 0.3 & 0.1 & 0.0 & 0.0 & 0.0 & 0.0 & 0.0 & 0.0 & 0.0 & -0.1 & -0.1 & 0.0 & 0.0 & 0.0 & 0.0\\\\0.0 & 0.0 & 0.0 & 0.0 & 0.1 & 0.2 & 0.4 & 0.1 & 0.0 & 0.0 & 0.0 & 0.0 & 0.0 & 0.0 & -0.1 & -0.1 & -0.1 & 0.0 & 0.0 & 0.0\\\\0.0 & 0.0 & 0.0 & 0.0 & 0.1 & 0.2 & 0.3 & 0.5 & 0.1 & 0.0 & 0.0 & 0.0 & 0.0 & 0.0 & 0.0 & -0.1 & -0.1 & -0.1 & 0.0 & 0.0\\\\0.0 & 0.0 & 0.0 & 0.0 & 0.1 & 0.2 & 0.3 & 0.4 & 0.5 & 0.0 & 0.0 & 0.0 & 0.0 & 0.0 & 0.0 & -0.1 & -0.1 & -0.1 & 0.0 & 0.0\\\\0.0 & 0.0 & 0.0 & 0.0 & 0.1 & 0.2 & 0.3 & 0.4 & 0.5 & 0.5 & 0.0 & 0.0 & 0.0 & 0.0 & 0.0 & -0.1 & -0.1 & -0.1 & 0.0 & 0.0\\\\0.0 & 0.0 & 0.0 & 0.0 & 0.0 & 0.0 & 0.0 & 0.0 & 0.0 & 0.0 & 0.0 & 0.0 & 0.0 & 0.0 & 0.0 & 0.0 & 0.0 & 0.0 & 0.0 & 0.0\\\\0.0 & 0.0 & 0.0 & 0.0 & 0.0 & 0.0 & 0.0 & 0.0 & 0.0 & 0.0 & 0.0 & 0.0 & 0.0 & 0.0 & 0.0 & 0.0 & 0.0 & 0.0 & 0.0 & 0.0\\\\0.0 & 0.0 & -0.1 & -0.1 & 0.0 & 0.0 & 0.0 & 0.0 & 0.0 & 0.0 & 0.0 & 0.0 & 0.1 & 0.1 & 0.1 & 0.0 & 0.0 & 0.0 & 0.0 & 0.0\\\\0.0 & 0.0 & 0.0 & -0.1 & -0.1 & 0.0 & 0.0 & 0.0 & 0.0 & 0.0 & 0.0 & 0.0 & 0.0 & 0.1 & 0.1 & 0.1 & 0.0 & 0.0 & 0.0 & 0.0\\\\0.0 & 0.0 & 0.0 & 0.0 & -0.1 & -0.1 & 0.0 & 0.0 & 0.0 & 0.0 & 0.0 & 0.0 & 0.0 & 0.0 & 0.2 & 0.1 & 0.1 & 0.0 & 0.0 & 0.0\\\\0.0 & 0.0 & 0.0 & 0.0 & -0.1 & -0.2 & 0.0 & 0.0 & 0.0 & 0.0 & 0.0 & 0.0 & 0.0 & 0.0 & 0.1 & 0.2 & 0.1 & 0.1 & 0.0 & 0.0\\\\0.0 & 0.0 & 0.0 & 0.0 & -0.1 & -0.2 & -0.2 & 0.0 & 0.0 & 0.0 & 0.0 & 0.0 & 0.0 & 0.0 & 0.1 & 0.2 & 0.3 & 0.1 & 0.0 & 0.0\\\\0.0 & 0.0 & 0.0 & 0.0 & -0.1 & -0.1 & -0.2 & -0.1 & 0.0 & 0.0 & 0.0 & 0.0 & 0.0 & 0.0 & 0.1 & 0.1 & 0.3 & 0.4 & 0.1 & 0.0\\\\0.0 & 0.0 & 0.0 & 0.0 & -0.1 & -0.1 & -0.2 & -0.1 & 0.0 & 0.0 & 0.0 & 0.0 & 0.0 & 0.0 & 0.0 & 0.1 & 0.2 & 0.4 & 0.5 & 0.1\\\\0.0 & 0.0 & 0.0 & 0.0 & -0.1 & -0.1 & -0.2 & -0.1 & 0.0 & 0.0 & 0.0 & 0.0 & 0.0 & 0.0 & 0.0 & 0.1 & 0.2 & 0.3 & 0.5 & 0.5\\end{array}\\right]$"
      ],
      "text/plain": [
       "Matrix([\n",
       "[0.0, 0.0,  0.0,  0.0,  0.0,  0.0,  0.0,  0.0, 0.0, 0.0, 0.0, 0.0, 0.0,  0.0,  0.0,  0.0,  0.0,  0.0, 0.0, 0.0],\n",
       "[0.0, 0.1,  0.1,  0.1,  0.0,  0.0,  0.0,  0.0, 0.0, 0.0, 0.0, 0.0, 0.0,  0.0,  0.0,  0.0,  0.0,  0.0, 0.0, 0.0],\n",
       "[0.0, 0.0,  0.1,  0.1,  0.1,  0.0,  0.0,  0.0, 0.0, 0.0, 0.0, 0.0, 0.0,  0.0,  0.0,  0.0,  0.0,  0.0, 0.0, 0.0],\n",
       "[0.0, 0.0,  0.0,  0.1,  0.1,  0.1,  0.0,  0.0, 0.0, 0.0, 0.0, 0.0, 0.0, -0.1, -0.1,  0.0,  0.0,  0.0, 0.0, 0.0],\n",
       "[0.0, 0.0,  0.0,  0.1,  0.2,  0.1,  0.1,  0.0, 0.0, 0.0, 0.0, 0.0, 0.0,  0.0, -0.1, -0.1,  0.0,  0.0, 0.0, 0.0],\n",
       "[0.0, 0.0,  0.0,  0.0,  0.1,  0.3,  0.1,  0.0, 0.0, 0.0, 0.0, 0.0, 0.0,  0.0, -0.1, -0.1,  0.0,  0.0, 0.0, 0.0],\n",
       "[0.0, 0.0,  0.0,  0.0,  0.1,  0.2,  0.4,  0.1, 0.0, 0.0, 0.0, 0.0, 0.0,  0.0, -0.1, -0.1, -0.1,  0.0, 0.0, 0.0],\n",
       "[0.0, 0.0,  0.0,  0.0,  0.1,  0.2,  0.3,  0.5, 0.1, 0.0, 0.0, 0.0, 0.0,  0.0,  0.0, -0.1, -0.1, -0.1, 0.0, 0.0],\n",
       "[0.0, 0.0,  0.0,  0.0,  0.1,  0.2,  0.3,  0.4, 0.5, 0.0, 0.0, 0.0, 0.0,  0.0,  0.0, -0.1, -0.1, -0.1, 0.0, 0.0],\n",
       "[0.0, 0.0,  0.0,  0.0,  0.1,  0.2,  0.3,  0.4, 0.5, 0.5, 0.0, 0.0, 0.0,  0.0,  0.0, -0.1, -0.1, -0.1, 0.0, 0.0],\n",
       "[0.0, 0.0,  0.0,  0.0,  0.0,  0.0,  0.0,  0.0, 0.0, 0.0, 0.0, 0.0, 0.0,  0.0,  0.0,  0.0,  0.0,  0.0, 0.0, 0.0],\n",
       "[0.0, 0.0,  0.0,  0.0,  0.0,  0.0,  0.0,  0.0, 0.0, 0.0, 0.0, 0.0, 0.0,  0.0,  0.0,  0.0,  0.0,  0.0, 0.0, 0.0],\n",
       "[0.0, 0.0, -0.1, -0.1,  0.0,  0.0,  0.0,  0.0, 0.0, 0.0, 0.0, 0.0, 0.1,  0.1,  0.1,  0.0,  0.0,  0.0, 0.0, 0.0],\n",
       "[0.0, 0.0,  0.0, -0.1, -0.1,  0.0,  0.0,  0.0, 0.0, 0.0, 0.0, 0.0, 0.0,  0.1,  0.1,  0.1,  0.0,  0.0, 0.0, 0.0],\n",
       "[0.0, 0.0,  0.0,  0.0, -0.1, -0.1,  0.0,  0.0, 0.0, 0.0, 0.0, 0.0, 0.0,  0.0,  0.2,  0.1,  0.1,  0.0, 0.0, 0.0],\n",
       "[0.0, 0.0,  0.0,  0.0, -0.1, -0.2,  0.0,  0.0, 0.0, 0.0, 0.0, 0.0, 0.0,  0.0,  0.1,  0.2,  0.1,  0.1, 0.0, 0.0],\n",
       "[0.0, 0.0,  0.0,  0.0, -0.1, -0.2, -0.2,  0.0, 0.0, 0.0, 0.0, 0.0, 0.0,  0.0,  0.1,  0.2,  0.3,  0.1, 0.0, 0.0],\n",
       "[0.0, 0.0,  0.0,  0.0, -0.1, -0.1, -0.2, -0.1, 0.0, 0.0, 0.0, 0.0, 0.0,  0.0,  0.1,  0.1,  0.3,  0.4, 0.1, 0.0],\n",
       "[0.0, 0.0,  0.0,  0.0, -0.1, -0.1, -0.2, -0.1, 0.0, 0.0, 0.0, 0.0, 0.0,  0.0,  0.0,  0.1,  0.2,  0.4, 0.5, 0.1],\n",
       "[0.0, 0.0,  0.0,  0.0, -0.1, -0.1, -0.2, -0.1, 0.0, 0.0, 0.0, 0.0, 0.0,  0.0,  0.0,  0.1,  0.2,  0.3, 0.5, 0.5]])"
      ]
     },
     "execution_count": 20,
     "metadata": {},
     "output_type": "execute_result"
    }
   ],
   "source": [
    "displayMatriz(inv)"
   ]
  }
 ],
 "metadata": {
  "kernelspec": {
   "display_name": "Python 3",
   "language": "python",
   "name": "python3"
  },
  "language_info": {
   "codemirror_mode": {
    "name": "ipython",
    "version": 3
   },
   "file_extension": ".py",
   "mimetype": "text/x-python",
   "name": "python",
   "nbconvert_exporter": "python",
   "pygments_lexer": "ipython3",
   "version": "3.8.3"
  }
 },
 "nbformat": 4,
 "nbformat_minor": 4
}
