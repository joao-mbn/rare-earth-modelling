{
 "cells": [
  {
   "cell_type": "code",
   "execution_count": 1,
   "source": [
    "from algoritmoOtimizacao.IsotermaClass import Isoterma\r\n",
    "from algoritmoOtimizacao.ETRClass import ETR\r\n",
    "from algoritmoOtimizacao.ProtonClass import Proton"
   ],
   "outputs": [],
   "metadata": {}
  },
  {
   "cell_type": "code",
   "execution_count": 2,
   "source": [
    "disprosio = ETR('Disprósio', 'Dy', 600, 99.5, 3.19, 0, 372.998, 2, 3.22552, -0.99999)\r\n",
    "holmio = ETR('Hólmio', 'Ho', 40, 99.9, 6.71, 0, 377.858, 2, 3.05008, -0.68760)\r\n",
    "H = Proton('Próton', 'H+', None, 0.55)"
   ],
   "outputs": [],
   "metadata": {}
  },
  {
   "cell_type": "code",
   "execution_count": 1,
   "source": [
    "Isoterma(40, 0.6, [H, disprosio, holmio]).create_all_elements_extraction_data_dto()"
   ],
   "outputs": [
    {
     "output_type": "error",
     "ename": "NameError",
     "evalue": "name 'Isoterma' is not defined",
     "traceback": [
      "\u001b[1;31m---------------------------------------------------------------------------\u001b[0m",
      "\u001b[1;31mNameError\u001b[0m                                 Traceback (most recent call last)",
      "\u001b[1;32m~\\AppData\\Local\\Temp/ipykernel_524/1820838554.py\u001b[0m in \u001b[0;36m<module>\u001b[1;34m\u001b[0m\n\u001b[1;32m----> 1\u001b[1;33m \u001b[0mIsoterma\u001b[0m\u001b[1;33m(\u001b[0m\u001b[1;36m40\u001b[0m\u001b[1;33m,\u001b[0m \u001b[1;36m0.6\u001b[0m\u001b[1;33m,\u001b[0m \u001b[1;33m[\u001b[0m\u001b[0mH\u001b[0m\u001b[1;33m,\u001b[0m \u001b[0mdisprosio\u001b[0m\u001b[1;33m,\u001b[0m \u001b[0mholmio\u001b[0m\u001b[1;33m]\u001b[0m\u001b[1;33m)\u001b[0m\u001b[1;33m.\u001b[0m\u001b[0mcreate_all_elements_extraction_data_dto\u001b[0m\u001b[1;33m(\u001b[0m\u001b[1;33m)\u001b[0m\u001b[1;33m\u001b[0m\u001b[1;33m\u001b[0m\u001b[0m\n\u001b[0m",
      "\u001b[1;31mNameError\u001b[0m: name 'Isoterma' is not defined"
     ]
    }
   ],
   "metadata": {}
  },
  {
   "cell_type": "code",
   "execution_count": 2,
   "source": [
    "import numpy as np"
   ],
   "outputs": [],
   "metadata": {}
  },
  {
   "cell_type": "code",
   "execution_count": 9,
   "source": [
    "a = {'b' : { 'd': 1, 'e': 3 }, 'c' : 3}\r\n",
    "a['b'] = {'f': 5}\r\n",
    "a"
   ],
   "outputs": [
    {
     "output_type": "execute_result",
     "data": {
      "text/plain": [
       "{'b': {'f': 5}, 'c': 3}"
      ]
     },
     "metadata": {},
     "execution_count": 9
    }
   ],
   "metadata": {}
  }
 ],
 "metadata": {
  "orig_nbformat": 4,
  "language_info": {
   "name": "python",
   "version": "3.9.6",
   "mimetype": "text/x-python",
   "codemirror_mode": {
    "name": "ipython",
    "version": 3
   },
   "pygments_lexer": "ipython3",
   "nbconvert_exporter": "python",
   "file_extension": ".py"
  },
  "kernelspec": {
   "name": "python3",
   "display_name": "Python 3.9.6 64-bit"
  },
  "interpreter": {
   "hash": "f66d96305d666602eca1f0ac1426fc29dbb937d657e28fe4305399a55cb81329"
  }
 },
 "nbformat": 4,
 "nbformat_minor": 2
}